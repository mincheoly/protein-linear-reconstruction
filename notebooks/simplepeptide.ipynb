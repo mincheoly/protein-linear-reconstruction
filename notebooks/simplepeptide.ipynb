{
 "cells": [
  {
   "cell_type": "markdown",
   "metadata": {},
   "source": [
    "# Simple peptide simulations\n",
    "\n",
    "### Imports"
   ]
  },
  {
   "cell_type": "code",
   "execution_count": 1,
   "metadata": {
    "collapsed": false
   },
   "outputs": [],
   "source": [
    "import mdtraj as md\n",
    "import numpy as np\n",
    "import scipy\n",
    "from scipy import ndimage\n",
    "from scipy import misc\n",
    "from sklearn import (manifold, datasets, decomposition, ensemble, discriminant_analysis, random_projection)\n",
    "import reconstruct_video as rv\n",
    "import networkx as nx\n",
    "import evaluate_traj as ev\n",
    "import copy as cp"
   ]
  },
  {
   "cell_type": "markdown",
   "metadata": {},
   "source": [
    "### AK peptide reconstruction with (x,y,z)"
   ]
  },
  {
   "cell_type": "code",
   "execution_count": 2,
   "metadata": {
    "collapsed": false
   },
   "outputs": [],
   "source": [
    "# Read Data and Apply ISOMAP\n",
    "\n",
    "# read data\n",
    "t = md.load('.\\\\Data\\\\akpeptide\\\\ak19_2500ps.dcd', top='.\\\\Data\\\\akpeptide\\\\ak19.pdb')\n",
    "t = t[0:1000]\n",
    "\n",
    "# Get trajectory info. reshape to prep for isomap\n",
    "num_frames, num_atoms, num_axis = t.xyz.shape\n",
    "X = np.reshape(t.xyz, (num_frames, num_atoms*num_axis))\n",
    "\n",
    "# Shuffle the frames!!!!!!\n",
    "np.random.shuffle(X)\n",
    "\n",
    "# apply isomap\n",
    "n_neighbors = 40\n",
    "n_components = 25\n",
    "X_iso = manifold.Isomap(n_neighbors, n_components).fit_transform(X)"
   ]
  },
  {
   "cell_type": "code",
   "execution_count": 3,
   "metadata": {
    "collapsed": false,
    "scrolled": true
   },
   "outputs": [],
   "source": [
    "# Save shuffled frames as dcd, temp is the shuffled md_obj\n",
    "shuffled_traj = cp.deepcopy(t)\n",
    "shuffled_traj.xyz = np.reshape(X, (num_frames, num_atoms, num_axis))\n",
    "shuffled_traj.save_dcd('raw_xyz_shuffled.dcd')"
   ]
  },
  {
   "cell_type": "code",
   "execution_count": 4,
   "metadata": {
    "collapsed": false
   },
   "outputs": [],
   "source": [
    "reload(rv)\n",
    "# Reconstruct the video using graph algorithms\n",
    "minG = rv.get_minimum_spanning_tree(X_iso)\n",
    "order = rv.get_path_from_MSP(minG)"
   ]
  },
  {
   "cell_type": "code",
   "execution_count": 5,
   "metadata": {
    "collapsed": false
   },
   "outputs": [],
   "source": [
    "# Get reconstructed, new md_obj\n",
    "reconstructed_traj = rv.get_reconstructed_traj(shuffled_traj, order)\n",
    "\n",
    "# Save reconstructed frames as dcd\n",
    "rv.save_new_trajectory(reconstructed_traj, 'raw_xyz_reconst.dcd')"
   ]
  },
  {
   "cell_type": "code",
   "execution_count": 6,
   "metadata": {
    "collapsed": false
   },
   "outputs": [
    {
     "name": "stdout",
     "output_type": "stream",
     "text": [
      "RMSD error between frames: 3.41424966828\n"
     ]
    }
   ],
   "source": [
    "# Calculate RMSD error between frames\n",
    "reload(ev)\n",
    "error = ev.get_RMSD_error(reconstructed_traj)\n",
    "print 'RMSD error between frames:', error"
   ]
  },
  {
   "cell_type": "markdown",
   "metadata": {
    "collapsed": false
   },
   "source": [
    "### AK peptide reconstruction with (psi, psi)"
   ]
  },
  {
   "cell_type": "code",
   "execution_count": 7,
   "metadata": {
    "collapsed": true
   },
   "outputs": [],
   "source": [
    "# read data\n",
    "t = md.load('.\\\\Data\\\\akpeptide\\\\ak19_2500ps.dcd', top='.\\\\Data\\\\akpeptide\\\\ak19.pdb')\n",
    "t = t[0:1000]\n",
    "\n",
    "# Get trajectory info. get phi shi angle data\n",
    "phi_idx, phi = md.compute_phi(t)\n",
    "psi_idx, psi = md.compute_psi(t)\n",
    "angles = np.concatenate((phi, psi), axis=1)\n",
    "num_frames, num_angles = angles.shape\n",
    "#shuffle_idx = np.random.permutation(num_frames)\n",
    "shuffle_idx = range(num_frames)\n",
    "angles = angles[shuffle_idx, :]\n",
    "\n",
    "# apply isomap\n",
    "n_neighbors = 5\n",
    "n_components = 10\n",
    "iso_angles = manifold.Isomap(n_neighbors, n_components).fit_transform(angles)"
   ]
  },
  {
   "cell_type": "code",
   "execution_count": 8,
   "metadata": {
    "collapsed": false,
    "scrolled": true
   },
   "outputs": [],
   "source": [
    "# Save shuffled frames as dcd, temp is the shuffled md_obj\n",
    "shuffled_traj = t\n",
    "shuffled_traj.xyz = shuffled_traj.xyz[shuffle_idx, :, :]\n",
    "shuffled_traj.save_dcd('phi_psi_shuffled.dcd')"
   ]
  },
  {
   "cell_type": "code",
   "execution_count": 9,
   "metadata": {
    "collapsed": false
   },
   "outputs": [],
   "source": [
    "reload(rv)\n",
    "# Reconstruct the video using graph algorithms\n",
    "minG = rv.get_minimum_spanning_tree(iso_angles)\n",
    "order = rv.get_path_from_MSP(minG)"
   ]
  },
  {
   "cell_type": "code",
   "execution_count": 31,
   "metadata": {
    "collapsed": false
   },
   "outputs": [],
   "source": [
    "# Get reconstructed, new md_obj\n",
    "reconstructed_traj = rv.get_reconstructed_traj(shuffled_traj, order)\n",
    "\n",
    "# Save reconstructed frames as dcd\n",
    "rv.save_new_trajectory(reconstructed_traj, 'raw_xyz_reconst.dcd')"
   ]
  },
  {
   "cell_type": "code",
   "execution_count": 32,
   "metadata": {
    "collapsed": false
   },
   "outputs": [
    {
     "name": "stdout",
     "output_type": "stream",
     "text": [
      "RMSD error between frames: 7.74666839128\n"
     ]
    }
   ],
   "source": [
    "# Calculate RMSD error between frames\n",
    "reload(ev)\n",
    "error = ev.get_RMSD_error(reconstructed_traj)\n",
    "print 'RMSD error between frames:', error"
   ]
  },
  {
   "cell_type": "markdown",
   "metadata": {},
   "source": [
    "### AK peptide reconstruction with (x, y, z) with alignment"
   ]
  },
  {
   "cell_type": "code",
   "execution_count": 2,
   "metadata": {
    "collapsed": false
   },
   "outputs": [],
   "source": [
    "# Read Data and Apply ISOMAP\n",
    "\n",
    "# read data\n",
    "t = md.load('.\\\\Data\\\\akpeptide\\\\ak19_2500ps.dcd', top='.\\\\Data\\\\akpeptide\\\\ak19.pdb')\n",
    "t = t[0:1000]\n",
    "t.superpose(t)\n",
    "\n",
    "# Get trajectory info. reshape to prep for isomap\n",
    "num_frames, num_atoms, num_axis = t.xyz.shape\n",
    "X = np.reshape(t.xyz, (num_frames, num_atoms*num_axis))\n",
    "np.random.shuffle(X)\n",
    "\n",
    "# apply isomap\n",
    "n_neighbors = 40\n",
    "n_components = 30\n",
    "X_iso = manifold.Isomap(n_neighbors, n_components).fit_transform(X)"
   ]
  },
  {
   "cell_type": "code",
   "execution_count": 37,
   "metadata": {
    "collapsed": false,
    "scrolled": true
   },
   "outputs": [],
   "source": [
    "# Save shuffled frames as dcd, temp is the shuffled md_obj\n",
    "shuffled_traj = t\n",
    "shuffled_traj.xyz = np.reshape(X, (num_frames, num_atoms, num_axis))\n",
    "shuffled_traj.save_dcd('aligned_xyz_shuffled.dcd')"
   ]
  },
  {
   "cell_type": "code",
   "execution_count": 38,
   "metadata": {
    "collapsed": false
   },
   "outputs": [],
   "source": [
    "reload(rv)\n",
    "# Reconstruct the video using graph algorithms\n",
    "minG = rv.get_minimum_spanning_tree(X_iso)\n",
    "order = rv.get_path_from_MSP(minG)"
   ]
  },
  {
   "cell_type": "code",
   "execution_count": 39,
   "metadata": {
    "collapsed": false
   },
   "outputs": [],
   "source": [
    "# Get reconstructed, new md_obj\n",
    "reconstructed_traj = rv.get_reconstructed_traj(shuffled_traj, order)\n",
    "\n",
    "# Save reconstructed frames as dcd\n",
    "rv.save_new_trajectory(reconstructed_traj, 'aligned_xyz_reconst.dcd')"
   ]
  },
  {
   "cell_type": "code",
   "execution_count": 40,
   "metadata": {
    "collapsed": false
   },
   "outputs": [
    {
     "name": "stdout",
     "output_type": "stream",
     "text": [
      "RMSD error between frames: 4.12488003269\n"
     ]
    }
   ],
   "source": [
    "# Calculate RMSD error between frames\n",
    "reload(ev)\n",
    "error = ev.get_RMSD_error(reconstructed_traj)\n",
    "print 'RMSD error between frames:', error"
   ]
  },
  {
   "cell_type": "code",
   "execution_count": 3,
   "metadata": {
    "collapsed": false
   },
   "outputs": [
    {
     "data": {
      "text/plain": [
       "229L"
      ]
     },
     "execution_count": 3,
     "metadata": {},
     "output_type": "execute_result"
    }
   ],
   "source": [
    "num_atoms"
   ]
  },
  {
   "cell_type": "code",
   "execution_count": null,
   "metadata": {
    "collapsed": true
   },
   "outputs": [],
   "source": []
  }
 ],
 "metadata": {
  "kernelspec": {
   "display_name": "Python 2",
   "language": "python",
   "name": "python2"
  },
  "language_info": {
   "codemirror_mode": {
    "name": "ipython",
    "version": 2
   },
   "file_extension": ".py",
   "mimetype": "text/x-python",
   "name": "python",
   "nbconvert_exporter": "python",
   "pygments_lexer": "ipython2",
   "version": "2.7.12"
  }
 },
 "nbformat": 4,
 "nbformat_minor": 0
}
